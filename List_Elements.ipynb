{
  "nbformat": 4,
  "nbformat_minor": 0,
  "metadata": {
    "colab": {
      "provenance": [],
      "authorship_tag": "ABX9TyPh5C8Ms2G0YltWx8glGc6r",
      "include_colab_link": true
    },
    "kernelspec": {
      "name": "python3",
      "display_name": "Python 3"
    },
    "language_info": {
      "name": "python"
    }
  },
  "cells": [
    {
      "cell_type": "markdown",
      "metadata": {
        "id": "view-in-github",
        "colab_type": "text"
      },
      "source": [
        "<a href=\"https://colab.research.google.com/github/vamshi1868/23CSBTB27-28/blob/main/List_Elements.ipynb\" target=\"_parent\"><img src=\"https://colab.research.google.com/assets/colab-badge.svg\" alt=\"Open In Colab\"/></a>"
      ]
    },
    {
      "cell_type": "markdown",
      "source": [],
      "metadata": {
        "id": "TE_TnAbzpidf"
      }
    },
    {
      "cell_type": "markdown",
      "source": [
        "Printing Elements in the lists using index values"
      ],
      "metadata": {
        "id": "0gFLAKRjpkMq"
      }
    },
    {
      "cell_type": "code",
      "source": [
        "import numpy as np\n",
        "A=['k','c','ram',1,[7,9,10]]\n",
        "print(A[0])\n",
        "print(A[2])\n",
        "print(A[4])\n",
        "print(A[4][0])\n",
        "print(A[2][1])"
      ],
      "metadata": {
        "colab": {
          "base_uri": "https://localhost:8080/"
        },
        "id": "gzW2iYNDpzq0",
        "outputId": "c05b1c5d-f742-47ed-dee7-65ca5a1f6c68"
      },
      "execution_count": 1,
      "outputs": [
        {
          "output_type": "stream",
          "name": "stdout",
          "text": [
            "k\n",
            "ram\n",
            "[7, 9, 10]\n",
            "7\n",
            "a\n"
          ]
        }
      ]
    }
  ]
}