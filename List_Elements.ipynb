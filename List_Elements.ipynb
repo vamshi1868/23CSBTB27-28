{
  "nbformat": 4,
  "nbformat_minor": 0,
  "metadata": {
    "colab": {
      "provenance": [],
      "authorship_tag": "ABX9TyMjien3P4bSIVpZMixtCKiN",
      "include_colab_link": true
    },
    "kernelspec": {
      "name": "python3",
      "display_name": "Python 3"
    },
    "language_info": {
      "name": "python"
    }
  },
  "cells": [
    {
      "cell_type": "markdown",
      "metadata": {
        "id": "view-in-github",
        "colab_type": "text"
      },
      "source": [
        "<a href=\"https://colab.research.google.com/github/vamshi1868/23CSBTB27-28/blob/main/List_Elements.ipynb\" target=\"_parent\"><img src=\"https://colab.research.google.com/assets/colab-badge.svg\" alt=\"Open In Colab\"/></a>"
      ]
    },
    {
      "cell_type": "markdown",
      "source": [
        "Printing Elements in the lists using index values"
      ],
      "metadata": {
        "id": "PKVXEUTLkFwD"
      }
    },
    {
      "cell_type": "code",
      "source": [
        "import numpy as np\n",
        "A=['k','c','ram',1,[7,9,10]]\n",
        "print(A[0])\n",
        "print(A[2])\n",
        "print(A[4])\n",
        "print(A[4][0])\n",
        "print(A[2][1])"
      ],
      "metadata": {
        "colab": {
          "base_uri": "https://localhost:8080/"
        },
        "id": "grQAP_-AkQ1W",
        "outputId": "2398786d-7e0c-4dd0-a4a7-be05511f0f82"
      },
      "execution_count": 1,
      "outputs": [
        {
          "output_type": "stream",
          "name": "stdout",
          "text": [
            "k\n",
            "ram\n",
            "[7, 9, 10]\n",
            "7\n",
            "a\n"
          ]
        }
      ]
    }
  ]
}