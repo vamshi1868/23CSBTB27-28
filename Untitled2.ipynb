{
  "nbformat": 4,
  "nbformat_minor": 0,
  "metadata": {
    "colab": {
      "provenance": [],
      "authorship_tag": "ABX9TyNRwS51fCHTJPgZg9RWmFfO",
      "include_colab_link": true
    },
    "kernelspec": {
      "name": "python3",
      "display_name": "Python 3"
    },
    "language_info": {
      "name": "python"
    }
  },
  "cells": [
    {
      "cell_type": "markdown",
      "metadata": {
        "id": "view-in-github",
        "colab_type": "text"
      },
      "source": [
        "<a href=\"https://colab.research.google.com/github/vamshi1868/23CSBTB27-28/blob/main/Untitled2.ipynb\" target=\"_parent\"><img src=\"https://colab.research.google.com/assets/colab-badge.svg\" alt=\"Open In Colab\"/></a>"
      ]
    },
    {
      "cell_type": "code",
      "execution_count": null,
      "metadata": {
        "id": "nuOVed4Njozx"
      },
      "outputs": [],
      "source": []
    },
    {
      "cell_type": "markdown",
      "source": [
        "Part 1 – Implement Basic Data Structures using Numpy, Pandas"
      ],
      "metadata": {
        "id": "S-kikNX1jp9s"
      }
    },
    {
      "cell_type": "code",
      "source": [
        "import numpy as np\n",
        "list={1,5,2,6,3}\n",
        "list1=[3,6,1,8]\n",
        "print(list)\n",
        "print(list1)\n",
        "print(type(list))\n",
        "print(type(list1))\n"
      ],
      "metadata": {
        "colab": {
          "base_uri": "https://localhost:8080/"
        },
        "id": "BopyNY5tjvJl",
        "outputId": "62071de3-e0ae-49de-a171-d75e841b5f42"
      },
      "execution_count": 3,
      "outputs": [
        {
          "output_type": "stream",
          "name": "stdout",
          "text": [
            "{1, 2, 3, 5, 6}\n",
            "[3, 6, 1, 8]\n",
            "<class 'set'>\n",
            "<class 'list'>\n"
          ]
        }
      ]
    },
    {
      "cell_type": "code",
      "source": [
        "List=[\"Geeks\",\"For\",\"Geeks\"]\n",
        "List2=\"my first lab\"\n",
        "List3=4.3\n",
        "List4=2j+6\n",
        "List5='My first lab'\n",
        "print(type(List2))\n",
        "print(type(List3))\n",
        "print(type(List4))\n",
        "print(type(List5))\n",
        "print(\"\\nList Items: \")\n",
        "print(List)\n",
        "print(type(List))\n",
        "print(List[0])\n",
        "print(List[2])"
      ],
      "metadata": {
        "colab": {
          "base_uri": "https://localhost:8080/"
        },
        "id": "1BVFrNVpmnh0",
        "outputId": "92b012b2-f97c-4059-e124-815b903190cf"
      },
      "execution_count": 6,
      "outputs": [
        {
          "output_type": "stream",
          "name": "stdout",
          "text": [
            "<class 'str'>\n",
            "<class 'float'>\n",
            "<class 'complex'>\n",
            "<class 'str'>\n",
            "\n",
            "List Items: \n",
            "['Geeks', 'For', 'Geeks']\n",
            "<class 'list'>\n",
            "Geeks\n",
            "Geeks\n"
          ]
        }
      ]
    }
  ]
}