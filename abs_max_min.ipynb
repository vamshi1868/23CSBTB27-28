{
  "nbformat": 4,
  "nbformat_minor": 0,
  "metadata": {
    "colab": {
      "provenance": [],
      "authorship_tag": "ABX9TyMOo2fIxuL9TCxQMXy2SAbF",
      "include_colab_link": true
    },
    "kernelspec": {
      "name": "python3",
      "display_name": "Python 3"
    },
    "language_info": {
      "name": "python"
    }
  },
  "cells": [
    {
      "cell_type": "markdown",
      "metadata": {
        "id": "view-in-github",
        "colab_type": "text"
      },
      "source": [
        "<a href=\"https://colab.research.google.com/github/vamshi1868/23CSBTB27-28/blob/main/abs_max_min.ipynb\" target=\"_parent\"><img src=\"https://colab.research.google.com/assets/colab-badge.svg\" alt=\"Open In Colab\"/></a>"
      ]
    },
    {
      "cell_type": "markdown",
      "source": [],
      "metadata": {
        "id": "PYgfzTT-jQZy"
      }
    },
    {
      "cell_type": "markdown",
      "source": [
        "Printing abs(max) and abs (min) values"
      ],
      "metadata": {
        "id": "ubHQHXVJjaK4"
      }
    },
    {
      "cell_type": "code",
      "source": [
        "import numpy as np\n",
        "A=[4,-6,3,9,-8,0,1,5]\n",
        "print(min(A))\n",
        "print(max(A))\n",
        "print(abs(min(A)))\n",
        "print(abs(max(A)))"
      ],
      "metadata": {
        "colab": {
          "base_uri": "https://localhost:8080/"
        },
        "id": "gqCBt1JbjizC",
        "outputId": "08b3a840-8807-4ce5-d611-c799df8b0472"
      },
      "execution_count": 1,
      "outputs": [
        {
          "output_type": "stream",
          "name": "stdout",
          "text": [
            "-8\n",
            "9\n",
            "8\n",
            "9\n"
          ]
        }
      ]
    }
  ]
}